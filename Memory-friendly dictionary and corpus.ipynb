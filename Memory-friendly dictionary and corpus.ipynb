{
 "metadata": {
  "name": "",
  "signature": "sha256:24a5ed26b7e878b10dc1506a2678ffd17aec42402c70bdd74c64adedc805da2c"
 },
 "nbformat": 3,
 "nbformat_minor": 0,
 "worksheets": [
  {
   "cells": [
    {
     "cell_type": "code",
     "collapsed": false,
     "input": [
      "import pandas as pd\n",
      "import codecs\n",
      "import unicodedata\n",
      "import logging\n",
      "import nltk\n",
      "import gensim"
     ],
     "language": "python",
     "metadata": {},
     "outputs": [],
     "prompt_number": 3
    },
    {
     "cell_type": "code",
     "collapsed": false,
     "input": [
      "# Global variables\n",
      "\n",
      "INPUT_FILE = '../data/train_2.csv'\n",
      "DIC_FILE = '../data/mob_pop.dict'\n",
      "CORPUS_FILE = '../data/mob_pop.mm'"
     ],
     "language": "python",
     "metadata": {},
     "outputs": [],
     "prompt_number": 4
    },
    {
     "cell_type": "code",
     "collapsed": false,
     "input": [
      "\n",
      "def remove_diacritics(input_str):\n",
      "    nkfd_form = unicodedata.normalize('NFKD', unicode(input_str))\n",
      "    return ''.join([c for c in nkfd_form if not unicodedata.combining(c)])\n",
      "\n",
      "\n",
      "\n",
      "def cz_stop_words(path,stop_words):\n",
      "    #appends the standard cz stop words to a given list \n",
      "    with codecs.open(path+'czechST.txt','r','utf-8') as f:\n",
      "        for line in f.readlines():\n",
      "            temp = remove_diacritics(line)\n",
      "            clean_line = temp.replace('\\n','')\n",
      "            stop_words.append(clean_line)\n",
      " \n",
      "stopwords = [u'F',u'M',u'html',u'index',u'redir',u'refererfix',u'cz',u'fwww',u'text',u'x',u'com',u'http',u'html',u'cs',\n",
      "             u'cesi',u'html]',u'txt',u'a',u'v',u'e',u'o','txt',u'ajax',u'blank',u'f',u'ms',u'c',u'd',u'vase',\n",
      "             u's',u'z',u'b',u'ad',u'jnp',u'si',u's',u'html',u'creative',u'creatives',u'check',u'jako',u'htmlbanner',\n",
      "             u'admits',u'url',u'nocache',u'line',u'ji',u'cr',u'mobilesdkcontroller',u'mobilecontroller',u'session',\n",
      "             u'qwapi',u'www',u'adunits',u'ssacdn.com',u'bd',u'misi',u'k',u'i',u'sve',u'html,',u'adresar',\n",
      "             u'clanek',u'synot',u'super',u'novinky',u'ssacdn.com,',u'par',u'by',u'r',u'm',u'php',u'detail',u'rss',\n",
      "             u'step',u'qwapi.com,',u'p']\n",
      "cz_stop_words('../data/',stopwords)            "
     ],
     "language": "python",
     "metadata": {},
     "outputs": [],
     "prompt_number": 13
    },
    {
     "cell_type": "code",
     "collapsed": false,
     "input": [
      "dictionary = gensim.corpora.Dictionary(line.lower().split() for line in open(INPUT_FILE))"
     ],
     "language": "python",
     "metadata": {},
     "outputs": [],
     "prompt_number": 8
    },
    {
     "cell_type": "code",
     "collapsed": false,
     "input": [
      "stop_ids = [dictionary.token2id[stopword] for stopword in stopwords if stopword in dictionary.token2id]\n",
      "once_ids = [tokenid for tokenid,docfreq in dictionary.dfs.iteritems() if docfreq ==1]\n",
      "dictionary.filter_tokens(stop_ids+once_ids)\n",
      "dictionary.compactify()"
     ],
     "language": "python",
     "metadata": {},
     "outputs": [],
     "prompt_number": 15
    },
    {
     "cell_type": "code",
     "collapsed": false,
     "input": [
      "dictionary.save(DIC_FILE)"
     ],
     "language": "python",
     "metadata": {},
     "outputs": [],
     "prompt_number": 17
    },
    {
     "cell_type": "code",
     "collapsed": false,
     "input": [
      "corpus = [dictionary.doc2bow(line.lower().split()) for line in open(INPUT_FILE) ]"
     ],
     "language": "python",
     "metadata": {},
     "outputs": [],
     "prompt_number": 20
    },
    {
     "cell_type": "code",
     "collapsed": false,
     "input": [
      "gensim.corpora.MmCorpus.serialize(CORPUS_FILE, corpus)"
     ],
     "language": "python",
     "metadata": {},
     "outputs": [],
     "prompt_number": 23
    },
    {
     "cell_type": "code",
     "collapsed": false,
     "input": [],
     "language": "python",
     "metadata": {},
     "outputs": []
    }
   ],
   "metadata": {}
  }
 ]
}