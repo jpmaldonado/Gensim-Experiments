{
 "metadata": {
  "name": "",
  "signature": "sha256:071134676f2e69a4fcb92ae0df93b1a3ed2a9a138bbe0240be44c0d51326bdb6"
 },
 "nbformat": 3,
 "nbformat_minor": 0,
 "worksheets": [
  {
   "cells": [
    {
     "cell_type": "code",
     "collapsed": false,
     "input": [
      "from sklearn.cluster import KMeans\n",
      "import numpy as np\n",
      "import seaborn as sns"
     ],
     "language": "python",
     "metadata": {},
     "outputs": [],
     "prompt_number": 1
    },
    {
     "cell_type": "code",
     "collapsed": false,
     "input": [
      "max_k = 10\n",
      "ks = range(1,max_k+1)"
     ],
     "language": "python",
     "metadata": {},
     "outputs": [],
     "prompt_number": 4
    },
    {
     "cell_type": "code",
     "collapsed": false,
     "input": [
      "X =np.loadtxt('../data/mob_pop_coords.csv', delimiter = '\\t')"
     ],
     "language": "python",
     "metadata": {},
     "outputs": [],
     "prompt_number": 5
    },
    {
     "cell_type": "code",
     "collapsed": false,
     "input": [
      "X[0]"
     ],
     "language": "python",
     "metadata": {},
     "outputs": [
      {
       "metadata": {},
       "output_type": "pyout",
       "prompt_number": 7,
       "text": [
        "array([ 21.5426,   4.3632])"
       ]
      }
     ],
     "prompt_number": 7
    },
    {
     "cell_type": "code",
     "collapsed": false,
     "input": [
      "# Calculate the third derivative of the inertia\n",
      "\n",
      "inertias = np.zeros(max_k)\n",
      "diff = np.zeros(max_k)\n",
      "diff2 = np.zeros(max_k)\n",
      "diff3 = np.zeros(max_k)\n",
      "for k in ks:\n",
      "    kmeans = KMeans(k).fit(X)\n",
      "    inertias[k - 1] = kmeans.inertia_\n",
      "    # first difference    \n",
      "    if k > 1:\n",
      "        diff[k - 1] = inertias[k - 1] - inertias[k - 2]\n",
      "    # second difference\n",
      "    if k > 2:\n",
      "        diff2[k - 1] = diff[k - 1] - diff[k - 2]\n",
      "    # third difference\n",
      "    if k > 3:\n",
      "        diff3[k - 1] = diff2[k - 1] - diff2[k - 2]\n",
      "\n",
      "elbow = np.argmin(diff3[3:]) + 3"
     ],
     "language": "python",
     "metadata": {},
     "outputs": [],
     "prompt_number": 6
    },
    {
     "cell_type": "code",
     "collapsed": false,
     "input": [
      "%matplotlib inline\n",
      "import matplotlib.pyplot as plt\n",
      "plt.plot(ks,inertias)\n",
      "plt.plot(ks[elbow],inertias[elbow], marker='o')\n",
      "plt.xlabel('k')\n",
      "plt.ylabel('Inertia')\n",
      "plt.show()"
     ],
     "language": "python",
     "metadata": {},
     "outputs": [
      {
       "metadata": {},
       "output_type": "display_data",
       "png": "[encoded data removed]",
       "text": [
        "<matplotlib.figure.Figure at 0x20099198>"
       ]
      }
     ],
     "prompt_number": 12
    },
    {
     "cell_type": "code",
     "collapsed": false,
     "input": [
      "#so 4 is the number of clusters...\n",
      "\n",
      "kmeans = KMeans(4).fit(X)\n",
      "y = kmeans.labels_\n",
      "colors = ['b','g','r','m']\n",
      "\n",
      "for i in range(X.shape[0]):\n",
      "    plt.scatter(X[i][0],X[i][1], c = colors[y[i]], s = 10)\n",
      "plt.show()    "
     ],
     "language": "python",
     "metadata": {},
     "outputs": []
    },
    {
     "cell_type": "code",
     "collapsed": false,
     "input": [
      "import logging \n",
      "import gensim\n",
      "\n",
      "NUM_TOPICS = 4\n",
      "\n",
      "logging.basicConfig(format='%(asctime)s : %(levelname)s : %(message)s', \n",
      "                    level=logging.INFO)\n",
      "\n",
      "dictionary = gensim.corpora.Dictionary.load('../data/mob_pop.dict')\n",
      "corpus = gensim.corpora.MmCorpus('../data/mob_pop.mm')\n",
      "\n",
      "lda = gensim.models.LdaModel(corpus, id2word=dictionary, num_topics=NUM_TOPICS)\n",
      "lda.print_topics(NUM_TOPICS)"
     ],
     "language": "python",
     "metadata": {},
     "outputs": [
      {
       "metadata": {},
       "output_type": "pyout",
       "prompt_number": 1,
       "text": [
        "[u'0.056*html, + 0.042*f + 0.035*a + 0.023*cz + 0.021*fwww + 0.021*http + 0.020*novinky.cz, + 0.020*redir + 0.020*refererfix + 0.019*seznam.cz,',\n",
        " u'0.135*html, + 0.016*c + 0.014*freevideo.cz, + 0.013*a + 0.010*vase + 0.010*videa + 0.009*http + 0.009*xhamster.com, + 0.008*x + 0.006*com',\n",
        " u'0.146*html, + 0.071*txt + 0.071*play.cz, + 0.039*country + 0.030*d + 0.029*a + 0.024*casradio + 0.021*f + 0.019*index + 0.010*b',\n",
        " u'0.069*html, + 0.041*clanek + 0.025*sport.cz, + 0.017*ostatni + 0.017*v + 0.015*tenis + 0.013*na + 0.012*se + 0.011*a + 0.011*fotbal']"
       ]
      }
     ],
     "prompt_number": 1
    },
    {
     "cell_type": "code",
     "collapsed": false,
     "input": [],
     "language": "python",
     "metadata": {},
     "outputs": []
    }
   ],
   "metadata": {}
  }
 ]
}